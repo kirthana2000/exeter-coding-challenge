{
 "cells": [
  {
   "cell_type": "code",
   "execution_count": 1,
   "id": "ab3b9d89",
   "metadata": {},
   "outputs": [
    {
     "name": "stdout",
     "output_type": "stream",
     "text": [
      "Requirement already satisfied: humanfriendly in c:\\users\\harthana\\anaconda3\\lib\\site-packages (9.2)\n",
      "Requirement already satisfied: pyreadline in c:\\users\\harthana\\anaconda3\\lib\\site-packages (from humanfriendly) (2.1)\n"
     ]
    }
   ],
   "source": [
    "!pip install humanfriendly"
   ]
  },
  {
   "cell_type": "code",
   "execution_count": 2,
   "id": "82533e2e",
   "metadata": {},
   "outputs": [],
   "source": [
    "import csv\n",
    "import time\n",
    "start= time.time()\n",
    "dicfile = open(\"french_dictionary.csv\",\"r\")\n",
    "#Retrieve all english and french words from csv and stroring it in dict{}\n",
    "my_dic={}\n",
    "for line in dicfile:\n",
    "    currentline=line.rstrip(\"\\n\").split(',')\n",
    "    my_dic[currentline[0]]=currentline[1]"
   ]
  },
  {
   "cell_type": "code",
   "execution_count": 3,
   "id": "e8453399",
   "metadata": {},
   "outputs": [],
   "source": [
    "frequency = {}\n",
    "sourcefile = open( 't8.shakespeare.txt', 'r+' )\n",
    "tempfile=open( 't8.shakespeare.translated.txt', 'w' )\n",
    "\n",
    "#Fetch each line from sourcefile.\n",
    "for line in sourcefile:\n",
    "    #Fetch each word from line.\n",
    "    for word in line.split(' '):\n",
    "      #Check whether the word is in my_dict{} and not equal to new line.\n",
    "      if word!='\\n' and word in my_dic.keys():\n",
    "          #Write corresponding french word in tempfile using dictionary keys.\n",
    "          tempfile.write(my_dic[word]+\" \")\n",
    "          #check whether the word is in frequency{} and iterate it.\n",
    "          if word in frequency:\n",
    "            frequency[word]+=1\n",
    "          #If not set the key value as \"1\".\n",
    "          else:\n",
    "            frequency[word]=1\n",
    "      #If word not in my_dict{}, write the word. \n",
    "      else:\n",
    "        tempfile.write(word+\" \")\n",
    "\n",
    "tempfile.close()"
   ]
  },
  {
   "cell_type": "code",
   "execution_count": 4,
   "id": "6e056c1d",
   "metadata": {},
   "outputs": [],
   "source": [
    "from collections import OrderedDict\n",
    "#Sort the frequency{} in ascending order.\n",
    "occurence = OrderedDict(sorted(frequency.items()))"
   ]
  },
  {
   "cell_type": "code",
   "execution_count": 5,
   "id": "56734ba9",
   "metadata": {},
   "outputs": [],
   "source": [
    "csvwriter=open(\"frequency.csv\",\"w\")\n",
    "freq=csv.writer(csvwriter)\n",
    "freq.writerow(['English word','French word','Frequency'])\n",
    "\n",
    "#write the frequency of each translated word in csv\n",
    "for key in list(occurence.keys()):\n",
    "    freq.writerow([key,my_dic[key],occurence[key]])\n",
    "csvwriter.close()\n",
    "end=time.time()"
   ]
  },
  {
   "cell_type": "code",
   "execution_count": 6,
   "id": "354b9b0e",
   "metadata": {},
   "outputs": [],
   "source": [
    "import os, psutil\n",
    "from humanfriendly import format_timespan\n",
    "#calculate time taken and memory used\n",
    "str1=\"Time to process: \"+format_timespan(end-start)\n",
    "str2=\"Memory used: \"+str(psutil.Process(os.getpid()).memory_info().rss / 1024 ** 2)+\" MB\"\n",
    "\n",
    "with open(\"performance.txt\",\"w\") as per:\n",
    "    per.write(str1+\"\\n\"+str2)"
   ]
  },
  {
   "cell_type": "code",
   "execution_count": null,
   "id": "41fbbee2",
   "metadata": {},
   "outputs": [],
   "source": []
  }
 ],
 "metadata": {
  "kernelspec": {
   "display_name": "Python 3",
   "language": "python",
   "name": "python3"
  },
  "language_info": {
   "codemirror_mode": {
    "name": "ipython",
    "version": 3
   },
   "file_extension": ".py",
   "mimetype": "text/x-python",
   "name": "python",
   "nbconvert_exporter": "python",
   "pygments_lexer": "ipython3",
   "version": "3.8.8"
  }
 },
 "nbformat": 4,
 "nbformat_minor": 5
}
